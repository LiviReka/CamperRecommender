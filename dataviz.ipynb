{
 "cells": [
  {
   "cell_type": "code",
   "execution_count": 1,
   "metadata": {},
   "outputs": [
    {
     "name": "stderr",
     "output_type": "stream",
     "text": [
      "/Users/polinab/.virtualenvs/base/lib/python3.8/site-packages/pandas/compat/__init__.py:120: UserWarning: Could not import the lzma module. Your installed Python is incomplete. Attempting to use lzma compression will result in a RuntimeError.\n",
      "  warnings.warn(msg)\n"
     ]
    }
   ],
   "source": [
    "import pandas as pd\n",
    "import matplotlib.pyplot as plt\n",
    "import numpy as np\n",
    "\n"
   ]
  },
  {
   "cell_type": "code",
   "execution_count": 2,
   "metadata": {},
   "outputs": [],
   "source": [
    "data = pd.read_csv('./data/Consumidor_Venta_Producto_UPC_Recom_2018_2020.csv')\n",
    "english_cols = {'FACTURA_ID': 'INVOICE_ID', 'FACTURA_POSICION_ID': 'INVOICE_POSITION_ID', 'CUSTOMER_ID': 'CUSTOMER_ID',\n",
    "                'FACTURA_CLASE_DOCUMENTO_ID': 'INVOICE_DOCUMENT_CLASS_ID', 'ANO_MES_FACTURA': 'INVOICE_MONTH_YEAR',\n",
    "                'ANO_FACTURA': 'ORDER_YEAR', 'MES_FACTURA': 'ORDER_MONTH', 'FECHA_FACTURA': 'INVOICE_DATE',\n",
    "                'IMP_VENTA_NETO_EUR': 'NET_SALES_EUR', 'CANAL_VENTA_ID': 'SALES_CHANNEL_ID',\n",
    "                'CANAL_VENTA_DESC': 'SALES_CHANNEL_DESC', 'TEMPORADA_COMERCIAL_ID': 'SEASON_ID',\n",
    "                'TEMPORADA_COMERCIAL_DESC': 'SEASON_DESC', 'PRODUCTO_ID': 'PRODUCT_ID', 'TALLA': 'SIZE',\n",
    "                'MATERIAL_ID': 'MATERIAL_ID', 'NUMERO_DEUDOR_PAIS_ID': 'SALE_COUNTRY_ID',\n",
    "                'NUMERO_DEUDOR_PAIS_DESC': 'SALE_COUNTRY_DESC', 'VENTA_DEVOLUCION': 'SALES_FILTER',\n",
    "                'JERARQUIA_PROD_ID': 'PRODUCT_HIERARCHY_ID', 'GRUPO_ARTICULO_PRODUCTO_ID': 'PRODUCT_GROUP_ID',\n",
    "                'GRUPO_ARTICULO': 'PRODUCT_GROUP', 'CONCEPTO': 'CONCEPT', 'LINEA': 'LINE',\n",
    "                'GENERO_PRODUCTO': 'PRODUCT_GENDER', 'CATEGORIA': 'PRODUCT_CATEGORY', 'TIPOLOGIA': 'PRODUCT_TYPE',\n",
    "                'COLOR': 'COLOR_INTERN', 'CONSUMER_COLOR': 'COLOR_EXTERN', 'CREMALLERA': 'ZIPPER', 'CORDONES': 'LACES',\n",
    "                'OUTSOLE_SUELA_TIPO': 'SOLE_TYPE', 'OUTSOLE_SUELA_SUBTIPO': 'SOLE_SUBTYPE',\n",
    "                'PLANTILLA_EXTRAIBLE': 'REMOVABLE_SOLE', 'CONTACTO_SN': 'CONTACT', 'EDAD_SN': 'AGE_AVAILABLE',\n",
    "                'GENERO_CONTACTO': 'GENDER_AVAILABLE', 'EDAD_COMPRA': 'AGE_AT_PURCHASE',\n",
    "                'EDAD_RANGO_COMPRA': 'AGE_RANGE',\n",
    "                'PAIS_CONTACTO': 'COUNTRY_CONTACT_ID', 'PAIS_CONTACTO_DESC': 'COUNTRY_CONTACT_DESC',\n",
    "                'CIUDAD_CONTACTO': 'CITY_CONTACT', 'IDIOMA_CONTACTO': 'LANGUAGE_CONTACT'}\n"
   ]
  },
  {
   "cell_type": "code",
   "execution_count": 3,
   "metadata": {},
   "outputs": [],
   "source": [
    "dropcols = ['INVOICE_MONTH_YEAR', 'ORDER_YEAR','ORDER_MONTH','SALES_CHANNEL_ID',\\\n",
    "            'SALES_CHANNEL_DESC','AGE_AVAILABLE','MATERIAL_ID','COUNTRY_CONTACT_DESC']"
   ]
  },
  {
   "cell_type": "code",
   "execution_count": 4,
   "metadata": {},
   "outputs": [
    {
     "data": {
      "text/plain": [
       "{'DE': 'GERMANY',\n",
       " 'RO': 'RUMANÍA',\n",
       " 'ES': 'SPAIN',\n",
       " 'GB': 'UNITED KINGDOM OF GREAT BRITAIN AND NORTHERN IRELAND',\n",
       " 'IT': 'ITALY',\n",
       " 'US': 'UNITED STATES',\n",
       " 'AU': 'AUSTRALIA',\n",
       " 'PT': 'PORTUGAL',\n",
       " 'BG': 'BULGARIA',\n",
       " 'BE': 'BÉLGICA',\n",
       " 'GR': 'GREECE',\n",
       " 'CH': 'SWITZERLAND',\n",
       " 'PL': 'POLAND',\n",
       " 'TR': 'TURKEY',\n",
       " 'JP': 'JAPAN',\n",
       " 'FR': 'FRANCE',\n",
       " 'IE': 'IRELAND',\n",
       " 'CA': 'CANADA',\n",
       " 'AT': 'AUSTRIA',\n",
       " 'MX': 'MEXICO',\n",
       " 'LT': 'LITUANIA',\n",
       " 'RU': 'RUSSIAN FEDERATION',\n",
       " 'NL': 'HOLLAND',\n",
       " 'DK': 'DENMARK',\n",
       " 'HR': 'CROACIA',\n",
       " 'IL': 'ISRAEL',\n",
       " 'CY': 'CHIPRE',\n",
       " 'SI': 'ESLOVENIA',\n",
       " 'HU': 'HUNGRÍA',\n",
       " 'IS': 'ISLANDIA',\n",
       " 'FI': 'FINLANDIA',\n",
       " 'LU': 'LUXEMBURGO',\n",
       " 'LV': 'LETONIA',\n",
       " 'MT': 'MALTA',\n",
       " 'CZ': 'REPÚBLICA CHECA',\n",
       " 'EE': 'ESTONIA',\n",
       " 'BA': 'BOSNIA-HERZEGOVINA',\n",
       " 'SE': 'SWEDEN',\n",
       " 'TH': 'THAILAND',\n",
       " 'SK': 'ESLOVAQUIA',\n",
       " 'NO': 'NORUEGA',\n",
       " 'SG': 'SINGAPUR',\n",
       " 'ZA': 'SOUTH AFRICA',\n",
       " 'HK': 'HONG KONG',\n",
       " 'KR': 'KOREA REPUBLIC OF',\n",
       " 'NZ': 'NUEVA ZELANDA',\n",
       " 'CN': 'CHINA',\n",
       " 'TW': 'TAIWAN',\n",
       " 'AD': 'ANDORRA',\n",
       " 'MC': 'MÓNACO',\n",
       " 'IN': 'INDIA',\n",
       " 'CO': 'COLOMBIA',\n",
       " 'LI': 'LIECHTENSTEIN'}"
      ]
     },
     "execution_count": 4,
     "metadata": {},
     "output_type": "execute_result"
    }
   ],
   "source": [
    "country_dict = {x['NUMERO_DEUDOR_PAIS_ID']:x['NUMERO_DEUDOR_PAIS_DESC'] for x in data[['NUMERO_DEUDOR_PAIS_ID','NUMERO_DEUDOR_PAIS_DESC']].drop_duplicates().to_dict('index').values()}\n",
    "country_dict\n"
   ]
  },
  {
   "cell_type": "code",
   "execution_count": 5,
   "metadata": {},
   "outputs": [],
   "source": [
    "def preprocess(d):\n",
    "    d_copy = d.rename(columns=english_cols)\n",
    "    d_copy['REMOVABLE_SOLE'] = d_copy['REMOVABLE_SOLE'].apply(lambda x: True if x == 'Extraible' else False)\n",
    "    \n",
    "    invoice_id_dict = {'ZTON':'Sale','ZDVN':'Return','ZDAN':'Cancelled Return'}\n",
    "    d_copy['INVOICE_DOCUMENT_CLASS_ID'] = d_copy['INVOICE_DOCUMENT_CLASS_ID'].apply(lambda x: invoice_id_dict[x])\n",
    "    \n",
    "    d_copy['INVOICE_DATE'] = pd.to_datetime(d_copy.INVOICE_DATE)\n",
    "    \n",
    "    d_copy.AGE_AT_PURCHASE = d_copy.AGE_AT_PURCHASE.replace(0, np.nan)\n",
    "    \n",
    "    d_copy.ZIPPER = d_copy.ZIPPER.apply(lambda x: True if x in ('SI','YES') else False)\n",
    "    d_copy.LACES = d_copy.LACES.apply(lambda x: True if x in ('With laces', 'Con cordones') else False)\n",
    "    \n",
    "    \n",
    "    return d_copy\n",
    "\n"
   ]
  },
  {
   "cell_type": "code",
   "execution_count": null,
   "outputs": [],
   "source": [
    "cleandata = preprocess(data)\n",
    "cleandata = cleandata.drop(columns=dropcols)\n",
    "\n"
   ],
   "metadata": {
    "collapsed": false,
    "pycharm": {
     "name": "#%%\n"
    }
   }
  },
  {
   "cell_type": "code",
   "execution_count": null,
   "outputs": [],
   "source": [
    "cleandata.columns\n"
   ],
   "metadata": {
    "collapsed": false,
    "pycharm": {
     "name": "#%%\n"
    }
   }
  },
  {
   "cell_type": "code",
   "execution_count": null,
   "outputs": [],
   "source": [],
   "metadata": {
    "collapsed": false,
    "pycharm": {
     "name": "#%%\n"
    }
   }
  },
  {
   "cell_type": "code",
   "execution_count": null,
   "outputs": [],
   "source": [
    "cleandata.SEASON_DESC.unique()"
   ],
   "metadata": {
    "collapsed": false,
    "pycharm": {
     "name": "#%%\n"
    }
   }
  },
  {
   "cell_type": "code",
   "execution_count": 6,
   "metadata": {},
   "outputs": [],
   "source": [
    "\n",
    "\n"
   ]
  },
  {
   "cell_type": "code",
   "execution_count": 9,
   "metadata": {},
   "outputs": [
    {
     "data": {
      "text/plain": [
       "Index(['INVOICE_ID', 'INVOICE_POSITION_ID', 'CUSTOMER_ID',\n",
       "       'INVOICE_DOCUMENT_CLASS_ID', 'INVOICE_DATE', 'NET_SALES_EUR',\n",
       "       'SEASON_ID', 'SEASON_DESC', 'PRODUCT_ID', 'SIZE', 'SALE_COUNTRY_ID',\n",
       "       'SALE_COUNTRY_DESC', 'SALES_FILTER', 'PRODUCT_HIERARCHY_ID',\n",
       "       'PRODUCT_GROUP_ID', 'PRODUCT_GROUP', 'CONCEPT', 'LINE',\n",
       "       'PRODUCT_GENDER', 'PRODUCT_CATEGORY', 'PRODUCT_TYPE', 'COLOR_INTERN',\n",
       "       'COLOR_EXTERN', 'ZIPPER', 'LACES', 'SOLE_TYPE', 'SOLE_SUBTYPE',\n",
       "       'REMOVABLE_SOLE', 'CONTACT', 'GENDER_AVAILABLE', 'AGE_AT_PURCHASE',\n",
       "       'AGE_RANGE', 'COUNTRY_CONTACT_ID', 'CITY_CONTACT', 'LANGUAGE_CONTACT'],\n",
       "      dtype='object')"
      ]
     },
     "execution_count": 9,
     "metadata": {},
     "output_type": "execute_result"
    }
   ],
   "source": [
    "cleandata.columns\n"
   ]
  },
  {
   "cell_type": "code",
   "execution_count": null,
   "metadata": {},
   "outputs": [],
   "source": []
  },
  {
   "cell_type": "code",
   "execution_count": 8,
   "metadata": {},
   "outputs": [
    {
     "data": {
      "text/plain": [
       "array(['89 - F/W 2019', '85 - F/W 2017', '88 - S/S 2019', '90 - S/S 2020',\n",
       "       '86 - S/S 2018', '87 - F/W 2018', '91 - F/W 2020'], dtype=object)"
      ]
     },
     "execution_count": 8,
     "metadata": {},
     "output_type": "execute_result"
    }
   ],
   "source": [
    "cleandata.SEASON_DESC.unique()"
   ]
  },
  {
   "cell_type": "code",
   "execution_count": null,
   "metadata": {},
   "outputs": [],
   "source": [
    "\n",
    "\n"
   ]
  },
  {
   "cell_type": "code",
   "execution_count": null,
   "metadata": {},
   "outputs": [],
   "source": []
  }
 ],
 "metadata": {
  "kernelspec": {
   "display_name": "Python 3",
   "language": "python",
   "name": "python3"
  },
  "language_info": {
   "codemirror_mode": {
    "name": "ipython",
    "version": 3
   },
   "file_extension": ".py",
   "mimetype": "text/x-python",
   "name": "python",
   "nbconvert_exporter": "python",
   "pygments_lexer": "ipython3",
   "version": "3.8.5"
  }
 },
 "nbformat": 4,
 "nbformat_minor": 1
}