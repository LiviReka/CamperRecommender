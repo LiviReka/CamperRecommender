{
 "cells": [
  {
   "cell_type": "code",
   "execution_count": 74,
   "metadata": {},
   "outputs": [],
   "source": [
    "import pandas as pd\n",
    "import matplotlib.pyplot as plt\n",
    "import numpy as np\n",
    "import seaborn as sns\n",
    "import re\n"
   ]
  },
  {
   "cell_type": "code",
   "execution_count": 2,
   "metadata": {},
   "outputs": [],
   "source": [
    "data = pd.read_csv('./data/Consumidor_Venta_Producto_UPC_Recom_2018_2020.csv')\n",
    "english_cols = {'FACTURA_ID': 'INVOICE_ID', 'FACTURA_POSICION_ID': 'INVOICE_POSITION_ID', 'CUSTOMER_ID': 'CUSTOMER_ID',\n",
    "                'FACTURA_CLASE_DOCUMENTO_ID': 'INVOICE_DOCUMENT_CLASS_ID', 'ANO_MES_FACTURA': 'INVOICE_MONTH_YEAR',\n",
    "                'ANO_FACTURA': 'ORDER_YEAR', 'MES_FACTURA': 'ORDER_MONTH', 'FECHA_FACTURA': 'INVOICE_DATE',\n",
    "                'IMP_VENTA_NETO_EUR': 'NET_SALES_EUR', 'CANAL_VENTA_ID': 'SALES_CHANNEL_ID',\n",
    "                'CANAL_VENTA_DESC': 'SALES_CHANNEL_DESC', 'TEMPORADA_COMERCIAL_ID': 'SEASON_ID',\n",
    "                'TEMPORADA_COMERCIAL_DESC': 'SEASON_DESC', 'PRODUCTO_ID': 'PRODUCT_ID', 'TALLA': 'SIZE',\n",
    "                'MATERIAL_ID': 'MATERIAL_ID', 'NUMERO_DEUDOR_PAIS_ID': 'SALE_COUNTRY_ID',\n",
    "                'NUMERO_DEUDOR_PAIS_DESC': 'SALE_COUNTRY_DESC', 'VENTA_DEVOLUCION': 'SALES_FILTER',\n",
    "                'JERARQUIA_PROD_ID': 'PRODUCT_HIERARCHY_ID', 'GRUPO_ARTICULO_PRODUCTO_ID': 'PRODUCT_GROUP_ID',\n",
    "                'GRUPO_ARTICULO': 'PRODUCT_GROUP', 'CONCEPTO': 'CONCEPT', 'LINEA': 'LINE',\n",
    "                'GENERO_PRODUCTO': 'PRODUCT_GENDER', 'CATEGORIA': 'PRODUCT_CATEGORY', 'TIPOLOGIA': 'PRODUCT_TYPE',\n",
    "                'COLOR': 'COLOR_INTERN', 'CONSUMER_COLOR': 'COLOR_EXTERN', 'CREMALLERA': 'ZIPPER', 'CORDONES': 'LACES',\n",
    "                'OUTSOLE_SUELA_TIPO': 'SOLE_TYPE', 'OUTSOLE_SUELA_SUBTIPO': 'SOLE_SUBTYPE',\n",
    "                'PLANTILLA_EXTRAIBLE': 'REMOVABLE_SOLE', 'CONTACTO_SN': 'PHYSICAL_CONTACT', 'EDAD_SN': 'AGE_AVAILABLE',\n",
    "                'GENERO_CONTACTO': 'GENDER_AVAILABLE', 'EDAD_COMPRA': 'AGE_AT_PURCHASE',\n",
    "                'EDAD_RANGO_COMPRA': 'AGE_RANGE',\n",
    "                'PAIS_CONTACTO': 'COUNTRY_CONTACT_ID', 'PAIS_CONTACTO_DESC': 'COUNTRY_CONTACT_DESC',\n",
    "                'CIUDAD_CONTACTO': 'CITY_CONTACT', 'IDIOMA_CONTACTO': 'LANGUAGE_CONTACT'}\n"
   ]
  },
  {
   "cell_type": "code",
   "execution_count": 3,
   "metadata": {},
   "outputs": [],
   "source": [
    "dropcols = ['INVOICE_MONTH_YEAR', 'ORDER_YEAR','ORDER_MONTH','SALES_CHANNEL_ID',\\\n",
    "            'SALES_CHANNEL_DESC','AGE_AVAILABLE','MATERIAL_ID','COUNTRY_CONTACT_DESC',\\\n",
    "            'SALE_COUNTRY_DESC','SALES_FILTER','SEASON_ID','GENDER_AVAILABLE']"
   ]
  },
  {
   "cell_type": "code",
   "execution_count": 4,
   "metadata": {},
   "outputs": [],
   "source": [
    "# gets most common country for the code\n",
    "def country_dict(df, id_field,desc_field):\n",
    "    country_dict = {x[id_field]:x[desc_field] for x in df.groupby(id_field)[desc_field].apply(lambda x: x.mode()).to_frame().reset_index().to_dict('index').values()}\n",
    "    return country_dict"
   ]
  },
  {
   "cell_type": "code",
   "execution_count": 5,
   "metadata": {},
   "outputs": [
    {
     "data": {
      "text/plain": [
       "{'AD': 'ANDORRA',\n",
       " 'AE': 'EMIRATOS ÁRABES UNIDOS',\n",
       " 'AF': 'AFGANISTÁN',\n",
       " 'AG': 'ANTIGUA Y BARBUDA',\n",
       " 'AL': 'ALBANIA',\n",
       " 'AR': 'ARGENTINA',\n",
       " 'AT': 'AUSTRIA',\n",
       " 'AU': 'AUSTRALIA',\n",
       " 'AZ': 'AZERBAYÁN',\n",
       " 'BA': 'BOSNIA-HERZEGOVINA',\n",
       " 'BE': 'BÉLGICA',\n",
       " 'BG': 'BULGARIA',\n",
       " 'BR': 'BRAZIL',\n",
       " 'BY': 'BIELORRUSIA',\n",
       " 'CA': 'CANADA',\n",
       " 'CH': 'SWITZERLAND',\n",
       " 'CL': 'CHILE',\n",
       " 'CN': 'CHINA',\n",
       " 'CO': 'COLOMBIA',\n",
       " 'CR': 'COSTA RICA',\n",
       " 'CU': 'CUBA',\n",
       " 'CY': 'CHIPRE',\n",
       " 'CZ': 'REPÚBLICA CHECA',\n",
       " 'DE': 'GERMANY',\n",
       " 'DK': 'DENMARK',\n",
       " 'EC': 'ECUADOR',\n",
       " 'EE': 'ESTONIA',\n",
       " 'EG': 'EGIPTO',\n",
       " 'ES': 'SPAIN',\n",
       " 'FI': 'FINLANDIA',\n",
       " 'FR': 'FRANCE',\n",
       " 'GB': 'UNITED KINGDOM OF GREAT BRITAIN AND NORTHERN IRELAND',\n",
       " 'GE': 'GEORGIA',\n",
       " 'GP': 'GUADALUPE',\n",
       " 'GR': 'GREECE',\n",
       " 'HK': 'HONG KONG',\n",
       " 'HR': 'CROACIA',\n",
       " 'HU': 'HUNGRÍA',\n",
       " 'IE': 'IRELAND',\n",
       " 'IL': 'ISRAEL',\n",
       " 'IN': 'INDIA',\n",
       " 'IS': 'ISLANDIA',\n",
       " 'IT': 'ITALY',\n",
       " 'JP': 'JAPAN',\n",
       " 'KR': 'KOREA REPUBLIC OF',\n",
       " 'KZ': 'KAZAJSTÁN',\n",
       " 'LA': 'LAOS',\n",
       " 'LI': 'LIECHTENSTEIN',\n",
       " 'LT': 'LITUANIA',\n",
       " 'LU': 'LUXEMBURGO',\n",
       " 'LV': 'LETONIA',\n",
       " 'MC': 'MÓNACO',\n",
       " 'MO': 'MACAO',\n",
       " 'MT': 'MALTA',\n",
       " 'MX': 'MEXICO',\n",
       " 'MY': 'MALASIA',\n",
       " 'NC': 'NUEVA CALEDONIA',\n",
       " 'NL': 'HOLLAND',\n",
       " 'NO': 'NORUEGA',\n",
       " 'NU': 'NIUE',\n",
       " 'NZ': 'NUEVA ZELANDA',\n",
       " 'PE': 'PERÚ',\n",
       " 'PH': 'FILIPINAS',\n",
       " 'PL': 'POLAND',\n",
       " 'PR': 'PUERTO RICO',\n",
       " 'PT': 'PORTUGAL',\n",
       " 'PY': 'PARAGUAY',\n",
       " 'QA': 'QATAR',\n",
       " 'RO': 'RUMANÍA',\n",
       " 'RS': 'SERBIA',\n",
       " 'RU': 'RUSSIAN FEDERATION',\n",
       " 'SA': 'ARABIA SAUDÍ',\n",
       " 'SE': 'SWEDEN',\n",
       " 'SG': 'SINGAPUR',\n",
       " 'SI': 'ESLOVENIA',\n",
       " 'SK': 'ESLOVAQUIA',\n",
       " 'SM': 'SAN MARINO',\n",
       " 'TH': 'THAILAND',\n",
       " 'TM': 'TURKMENISTÁN',\n",
       " 'TR': 'TURKEY',\n",
       " 'TT': 'TRINIDAD Y TOBAGO',\n",
       " 'TW': 'TAIWAN',\n",
       " 'UA': 'UKRAINE',\n",
       " 'UG': 'UGANDA',\n",
       " 'US': 'UNITED STATES',\n",
       " 'UY': 'URUGUAY',\n",
       " 'UZ': 'UZBEKISTÁN',\n",
       " 'VI': 'ISLAS VÍRGENES AMERICANAS',\n",
       " 'VN': 'VIETNAM',\n",
       " 'ZA': 'SOUTH AFRICA'}"
      ]
     },
     "execution_count": 5,
     "metadata": {},
     "output_type": "execute_result"
    }
   ],
   "source": [
    "country_lookup = country_dict(data, 'PAIS_CONTACTO','PAIS_CONTACTO_DESC')\n",
    "country_lookup.update(country_dict(data, 'NUMERO_DEUDOR_PAIS_ID','NUMERO_DEUDOR_PAIS_DESC'))\n",
    "country_lookup\n",
    "\n"
   ]
  },
  {
   "cell_type": "code",
   "execution_count": 92,
   "metadata": {},
   "outputs": [],
   "source": [
    "def preprocess(d):\n",
    "    d_copy = d.rename(columns=english_cols)\n",
    "    d_copy['REMOVABLE_SOLE'] = d_copy['REMOVABLE_SOLE'].apply(lambda x: True if x == 'Extraible' else False)\n",
    "    \n",
    "    invoice_id_dict = {'ZTON':'Sale','ZDVN':'Return','ZDAN':'Cancelled Return'}\n",
    "    d_copy['INVOICE_DOCUMENT_CLASS_ID'] = d_copy['INVOICE_DOCUMENT_CLASS_ID'].apply(lambda x: invoice_id_dict[x])\n",
    "    \n",
    "    d_copy['INVOICE_DATE'] = pd.to_datetime(d_copy.INVOICE_DATE)\n",
    "    \n",
    "    d_copy.AGE_AT_PURCHASE = d_copy.AGE_AT_PURCHASE.replace(0, np.nan)\n",
    "    \n",
    "    d_copy.ZIPPER = d_copy.ZIPPER.apply(lambda x: True if x in ('SI','YES') else False)\n",
    "    d_copy.LACES = d_copy.LACES.apply(lambda x: True if x in ('With laces', 'Con cordones') else False)\n",
    "    \n",
    "    product_group_dict = {'Zapatos Adulto':'Adult Shoes',\n",
    "                          'Bolsos':'Bag',\n",
    "                          'Bolsos Cartujano':'Bag',\n",
    "                          'Ropa':'Clothings',\n",
    "                          'Complementos':'Complements'\n",
    "                         }\n",
    "    d_copy.PRODUCT_GROUP = d_copy.PRODUCT_GROUP.apply(lambda x: product_group_dict[x] if x in product_group_dict else x)\n",
    "    \n",
    "    color_dict = {'Мульти ассорти':'Multi - Assorted',\n",
    "                  'красный': 'Red',\n",
    "                  'розовый' : 'Pink',\n",
    "                  'желтый' : 'Yellow'\n",
    "                 }\n",
    "    d_copy.COLOR_INTERN = d_copy.COLOR_INTERN.apply(lambda x: color_dict[x] if x in color_dict else x)\n",
    "    \n",
    "    d_copy.PHYSICAL_CONTACT = d_copy.PHYSICAL_CONTACT.apply(lambda x: True if x == 'S' else False)\n",
    "    \n",
    "    d_copy.SEASON_DESC = d_copy.SEASON_DESC.apply(lambda x: \"\".join(re.split('^\\d{2}|\\W+', x)))\n",
    "    \n",
    "\n",
    "    \n",
    "    \n",
    "    return d_copy\n",
    "\n"
   ]
  },
  {
   "cell_type": "code",
   "execution_count": 93,
   "metadata": {},
   "outputs": [],
   "source": [
    "cleandata = preprocess(data)\n",
    "cleandata = cleandata.drop(columns=dropcols)\n",
    "\n"
   ]
  },
  {
   "cell_type": "code",
   "execution_count": 94,
   "metadata": {},
   "outputs": [],
   "source": [
    "item_fields = ['PRODUCT_ID','PRODUCT_GROUP','CONCEPT','LINE',\\\n",
    "               'PRODUCT_GENDER','PRODUCT_CATEGORY','PRODUCT_TYPE',\\\n",
    "               'LACES','ZIPPER','SOLE_TYPE','SOLE_SUBTYPE','REMOVABLE_SOLE','SEASON_DESC',\\\n",
    "              'COLOR_INTERN']\n",
    "\n",
    "item_categoricals = ['PRODUCT_GROUP','CONCEPT','LINE','PRODUCT_GENDER',\\\n",
    "                     'PRODUCT_CATEGORY','PRODUCT_TYPE','SOLE_TYPE',\\\n",
    "                     'SOLE_SUBTYPE','SEASON_DESC','COLOR_INTERN'\n",
    "                    ]\n"
   ]
  },
  {
   "cell_type": "code",
   "execution_count": 95,
   "metadata": {},
   "outputs": [
    {
     "data": {
      "text/plain": [
       "array(['FW2019', 'FW2017', 'SS2019', 'SS2020', 'SS2018', 'FW2018',\n",
       "       'FW2020'], dtype=object)"
      ]
     },
     "execution_count": 95,
     "metadata": {},
     "output_type": "execute_result"
    }
   ],
   "source": [
    "items_attributes = cleandata[item_fields]\n",
    "items_attributes.SEASON_DESC.unique()\n"
   ]
  },
  {
   "cell_type": "code",
   "execution_count": null,
   "metadata": {},
   "outputs": [],
   "source": [
    "\n",
    "pd.get_dummies(items_attributes[item_categoricals])\n"
   ]
  },
  {
   "cell_type": "code",
   "execution_count": null,
   "metadata": {},
   "outputs": [],
   "source": []
  }
 ],
 "metadata": {
  "kernelspec": {
   "display_name": "Python 3",
   "language": "python",
   "name": "python3"
  },
  "language_info": {
   "codemirror_mode": {
    "name": "ipython",
    "version": 3
   },
   "file_extension": ".py",
   "mimetype": "text/x-python",
   "name": "python",
   "nbconvert_exporter": "python",
   "pygments_lexer": "ipython3",
   "version": "3.8.5"
  }
 },
 "nbformat": 4,
 "nbformat_minor": 1
}
