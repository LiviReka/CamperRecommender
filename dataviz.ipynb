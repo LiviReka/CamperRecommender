{
 "cells": [
  {
   "cell_type": "code",
   "execution_count": 1,
   "metadata": {},
   "outputs": [
    {
     "name": "stderr",
     "output_type": "stream",
     "text": [
      "/Users/polinab/.virtualenvs/base/lib/python3.8/site-packages/pandas/compat/__init__.py:120: UserWarning: Could not import the lzma module. Your installed Python is incomplete. Attempting to use lzma compression will result in a RuntimeError.\n",
      "  warnings.warn(msg)\n"
     ]
    }
   ],
   "source": [
    "import pandas as pd\n",
    "import matplotlib.pyplot as plt\n",
    "import numpy as np\n",
    "import seaborn as sns\n"
   ]
  },
  {
   "cell_type": "code",
   "execution_count": 2,
   "metadata": {},
   "outputs": [],
   "source": [
    "data = pd.read_csv('./data/Consumidor_Venta_Producto_UPC_Recom_2018_2020.csv')\n",
    "english_cols = {'FACTURA_ID': 'INVOICE_ID', 'FACTURA_POSICION_ID': 'INVOICE_POSITION_ID', 'CUSTOMER_ID': 'CUSTOMER_ID',\n",
    "                'FACTURA_CLASE_DOCUMENTO_ID': 'INVOICE_DOCUMENT_CLASS_ID', 'ANO_MES_FACTURA': 'INVOICE_MONTH_YEAR',\n",
    "                'ANO_FACTURA': 'ORDER_YEAR', 'MES_FACTURA': 'ORDER_MONTH', 'FECHA_FACTURA': 'INVOICE_DATE',\n",
    "                'IMP_VENTA_NETO_EUR': 'NET_SALES_EUR', 'CANAL_VENTA_ID': 'SALES_CHANNEL_ID',\n",
    "                'CANAL_VENTA_DESC': 'SALES_CHANNEL_DESC', 'TEMPORADA_COMERCIAL_ID': 'SEASON_ID',\n",
    "                'TEMPORADA_COMERCIAL_DESC': 'SEASON_DESC', 'PRODUCTO_ID': 'PRODUCT_ID', 'TALLA': 'SIZE',\n",
    "                'MATERIAL_ID': 'MATERIAL_ID', 'NUMERO_DEUDOR_PAIS_ID': 'SALE_COUNTRY_ID',\n",
    "                'NUMERO_DEUDOR_PAIS_DESC': 'SALE_COUNTRY_DESC', 'VENTA_DEVOLUCION': 'SALES_FILTER',\n",
    "                'JERARQUIA_PROD_ID': 'PRODUCT_HIERARCHY_ID', 'GRUPO_ARTICULO_PRODUCTO_ID': 'PRODUCT_GROUP_ID',\n",
    "                'GRUPO_ARTICULO': 'PRODUCT_GROUP', 'CONCEPTO': 'CONCEPT', 'LINEA': 'LINE',\n",
    "                'GENERO_PRODUCTO': 'PRODUCT_GENDER', 'CATEGORIA': 'PRODUCT_CATEGORY', 'TIPOLOGIA': 'PRODUCT_TYPE',\n",
    "                'COLOR': 'COLOR_INTERN', 'CONSUMER_COLOR': 'COLOR_EXTERN', 'CREMALLERA': 'ZIPPER', 'CORDONES': 'LACES',\n",
    "                'OUTSOLE_SUELA_TIPO': 'SOLE_TYPE', 'OUTSOLE_SUELA_SUBTIPO': 'SOLE_SUBTYPE',\n",
    "                'PLANTILLA_EXTRAIBLE': 'REMOVABLE_SOLE', 'CONTACTO_SN': 'PHYSICAL_CONTACT', 'EDAD_SN': 'AGE_AVAILABLE',\n",
    "                'GENERO_CONTACTO': 'GENDER_AVAILABLE', 'EDAD_COMPRA': 'AGE_AT_PURCHASE',\n",
    "                'EDAD_RANGO_COMPRA': 'AGE_RANGE',\n",
    "                'PAIS_CONTACTO': 'COUNTRY_CONTACT_ID', 'PAIS_CONTACTO_DESC': 'COUNTRY_CONTACT_DESC',\n",
    "                'CIUDAD_CONTACTO': 'CITY_CONTACT', 'IDIOMA_CONTACTO': 'LANGUAGE_CONTACT'}\n"
   ]
  },
  {
   "cell_type": "code",
   "execution_count": 3,
   "metadata": {},
   "outputs": [],
   "source": [
    "dropcols = ['INVOICE_MONTH_YEAR', 'ORDER_YEAR','ORDER_MONTH','SALES_CHANNEL_ID',\\\n",
    "            'SALES_CHANNEL_DESC','AGE_AVAILABLE','MATERIAL_ID','COUNTRY_CONTACT_DESC',\\\n",
    "            'SALE_COUNTRY_DESC','SALES_FILTER','SEASON_ID','GENDER_AVAILABLE']"
   ]
  },
  {
   "cell_type": "code",
   "execution_count": 4,
   "metadata": {},
   "outputs": [],
   "source": [
    "# gets most common country for the code\n",
    "def country_dict(df, id_field,desc_field):\n",
    "    country_dict = {x[id_field]:x[desc_field] for x in df.groupby(id_field)[desc_field].apply(lambda x: x.mode()).to_frame().reset_index().to_dict('index').values()}\n",
    "    return country_dict"
   ]
  },
  {
   "cell_type": "code",
   "execution_count": 5,
   "metadata": {},
   "outputs": [
    {
     "data": {
      "text/plain": [
       "{'AD': 'ANDORRA',\n",
       " 'AE': 'EMIRATOS ÁRABES UNIDOS',\n",
       " 'AF': 'AFGANISTÁN',\n",
       " 'AG': 'ANTIGUA Y BARBUDA',\n",
       " 'AL': 'ALBANIA',\n",
       " 'AR': 'ARGENTINA',\n",
       " 'AT': 'AUSTRIA',\n",
       " 'AU': 'AUSTRALIA',\n",
       " 'AZ': 'AZERBAYÁN',\n",
       " 'BA': 'BOSNIA-HERZEGOVINA',\n",
       " 'BE': 'BÉLGICA',\n",
       " 'BG': 'BULGARIA',\n",
       " 'BR': 'BRAZIL',\n",
       " 'BY': 'BIELORRUSIA',\n",
       " 'CA': 'CANADA',\n",
       " 'CH': 'SWITZERLAND',\n",
       " 'CL': 'CHILE',\n",
       " 'CN': 'CHINA',\n",
       " 'CO': 'COLOMBIA',\n",
       " 'CR': 'COSTA RICA',\n",
       " 'CU': 'CUBA',\n",
       " 'CY': 'CHIPRE',\n",
       " 'CZ': 'REPÚBLICA CHECA',\n",
       " 'DE': 'GERMANY',\n",
       " 'DK': 'DENMARK',\n",
       " 'EC': 'ECUADOR',\n",
       " 'EE': 'ESTONIA',\n",
       " 'EG': 'EGIPTO',\n",
       " 'ES': 'SPAIN',\n",
       " 'FI': 'FINLANDIA',\n",
       " 'FR': 'FRANCE',\n",
       " 'GB': 'UNITED KINGDOM OF GREAT BRITAIN AND NORTHERN IRELAND',\n",
       " 'GE': 'GEORGIA',\n",
       " 'GP': 'GUADALUPE',\n",
       " 'GR': 'GREECE',\n",
       " 'HK': 'HONG KONG',\n",
       " 'HR': 'CROACIA',\n",
       " 'HU': 'HUNGRÍA',\n",
       " 'IE': 'IRELAND',\n",
       " 'IL': 'ISRAEL',\n",
       " 'IN': 'INDIA',\n",
       " 'IS': 'ISLANDIA',\n",
       " 'IT': 'ITALY',\n",
       " 'JP': 'JAPAN',\n",
       " 'KR': 'KOREA REPUBLIC OF',\n",
       " 'KZ': 'KAZAJSTÁN',\n",
       " 'LA': 'LAOS',\n",
       " 'LI': 'LIECHTENSTEIN',\n",
       " 'LT': 'LITUANIA',\n",
       " 'LU': 'LUXEMBURGO',\n",
       " 'LV': 'LETONIA',\n",
       " 'MC': 'MÓNACO',\n",
       " 'MO': 'MACAO',\n",
       " 'MT': 'MALTA',\n",
       " 'MX': 'MEXICO',\n",
       " 'MY': 'MALASIA',\n",
       " 'NC': 'NUEVA CALEDONIA',\n",
       " 'NL': 'HOLLAND',\n",
       " 'NO': 'NORUEGA',\n",
       " 'NU': 'NIUE',\n",
       " 'NZ': 'NUEVA ZELANDA',\n",
       " 'PE': 'PERÚ',\n",
       " 'PH': 'FILIPINAS',\n",
       " 'PL': 'POLAND',\n",
       " 'PR': 'PUERTO RICO',\n",
       " 'PT': 'PORTUGAL',\n",
       " 'PY': 'PARAGUAY',\n",
       " 'QA': 'QATAR',\n",
       " 'RO': 'RUMANÍA',\n",
       " 'RS': 'SERBIA',\n",
       " 'RU': 'RUSSIAN FEDERATION',\n",
       " 'SA': 'ARABIA SAUDÍ',\n",
       " 'SE': 'SWEDEN',\n",
       " 'SG': 'SINGAPUR',\n",
       " 'SI': 'ESLOVENIA',\n",
       " 'SK': 'ESLOVAQUIA',\n",
       " 'SM': 'SAN MARINO',\n",
       " 'TH': 'THAILAND',\n",
       " 'TM': 'TURKMENISTÁN',\n",
       " 'TR': 'TURKEY',\n",
       " 'TT': 'TRINIDAD Y TOBAGO',\n",
       " 'TW': 'TAIWAN',\n",
       " 'UA': 'UKRAINE',\n",
       " 'UG': 'UGANDA',\n",
       " 'US': 'UNITED STATES',\n",
       " 'UY': 'URUGUAY',\n",
       " 'UZ': 'UZBEKISTÁN',\n",
       " 'VI': 'ISLAS VÍRGENES AMERICANAS',\n",
       " 'VN': 'VIETNAM',\n",
       " 'ZA': 'SOUTH AFRICA'}"
      ]
     },
     "execution_count": 5,
     "metadata": {},
     "output_type": "execute_result"
    }
   ],
   "source": [
    "country_lookup = country_dict(data, 'PAIS_CONTACTO','PAIS_CONTACTO_DESC')\n",
    "country_lookup.update(country_dict(data, 'NUMERO_DEUDOR_PAIS_ID','NUMERO_DEUDOR_PAIS_DESC'))\n",
    "country_lookup\n",
    "\n"
   ]
  },
  {
   "cell_type": "code",
   "execution_count": 6,
   "metadata": {},
   "outputs": [],
   "source": [
    "def preprocess(d):\n",
    "    d_copy = d.rename(columns=english_cols)\n",
    "    d_copy['REMOVABLE_SOLE'] = d_copy['REMOVABLE_SOLE'].apply(lambda x: True if x == 'Extraible' else False)\n",
    "    \n",
    "    invoice_id_dict = {'ZTON':'Sale','ZDVN':'Return','ZDAN':'Cancelled Return'}\n",
    "    d_copy['INVOICE_DOCUMENT_CLASS_ID'] = d_copy['INVOICE_DOCUMENT_CLASS_ID'].apply(lambda x: invoice_id_dict[x])\n",
    "    \n",
    "    d_copy['INVOICE_DATE'] = pd.to_datetime(d_copy.INVOICE_DATE)\n",
    "    \n",
    "    d_copy.AGE_AT_PURCHASE = d_copy.AGE_AT_PURCHASE.replace(0, np.nan)\n",
    "    \n",
    "    d_copy.ZIPPER = d_copy.ZIPPER.apply(lambda x: True if x in ('SI','YES') else False)\n",
    "    d_copy.LACES = d_copy.LACES.apply(lambda x: True if x in ('With laces', 'Con cordones') else False)\n",
    "    \n",
    "    d_copy.PHYSICAL_CONTACT = d_copy.PHYSICAL_CONTACT.apply(lambda x: True if x == 'S' else False)\n",
    "    \n",
    "    \n",
    "    return d_copy\n",
    "\n"
   ]
  },
  {
   "cell_type": "code",
   "execution_count": 7,
   "metadata": {},
   "outputs": [],
   "source": [
    "cleandata = preprocess(data)\n",
    "cleandata = cleandata.drop(columns=dropcols)\n",
    "\n"
   ]
  },
  {
   "cell_type": "code",
   "execution_count": 14,
   "metadata": {},
   "outputs": [
    {
     "data": {
      "text/plain": [
       "CUSTOMER_ID\n",
       "++/DcYFzQ1gIUJza+neA8NadxET0/nofxMP2xeocbt4=    2\n",
       "++/RB4do2DxW6/bkh8jUK3zw9JxzStn/dbEjQxvIxkQ=    1\n",
       "++00bzGka2b8Wztp2jO3FgPtNBlG7EddjjW/7+WxP4o=    1\n",
       "++02Ly6o8yS/HLJrSkkNiguWcOWl7268zltL3qvkv4Q=    1\n",
       "++2M85GZOkggCCk8EC5PyRmRjeeQTsmswSlLwA7xZd4=    1\n",
       "                                               ..\n",
       "zzwDSBdyLJdCo2arT4lPfMA8Okd3xirrlmNNSe6+ojw=    3\n",
       "zzwGZchZX+ScdmC/xLiRbqxjAEeB7xZcLV6Au2HjY7c=    4\n",
       "zzx8SoQJefRX1/2jmKTTmFxHk7CbpBe5KV6fOedaSR8=    3\n",
       "zzzQiUfgIUY1DgB653FbVcRUVxKTPafMP2wLDVT8Xzs=    1\n",
       "zzzfi+QNP+Ce5s+UcQTCYVDtjLnQtBt6DcCVDI6LvHU=    2\n",
       "Length: 516919, dtype: int64"
      ]
     },
     "execution_count": 14,
     "metadata": {},
     "output_type": "execute_result"
    }
   ],
   "source": [
    "cleandata.groupby('CUSTOMER_ID').size()\n"
   ]
  },
  {
   "cell_type": "code",
   "execution_count": 10,
   "metadata": {
    "pycharm": {
     "name": "#%%\n"
    }
   },
   "outputs": [
    {
     "data": {
      "text/html": [
       "<div>\n",
       "<style scoped>\n",
       "    .dataframe tbody tr th:only-of-type {\n",
       "        vertical-align: middle;\n",
       "    }\n",
       "\n",
       "    .dataframe tbody tr th {\n",
       "        vertical-align: top;\n",
       "    }\n",
       "\n",
       "    .dataframe thead th {\n",
       "        text-align: right;\n",
       "    }\n",
       "</style>\n",
       "<table border=\"1\" class=\"dataframe\">\n",
       "  <thead>\n",
       "    <tr style=\"text-align: right;\">\n",
       "      <th></th>\n",
       "      <th>SALE_COUNTRY_ID</th>\n",
       "      <th>COUNTRY_CONTACT_ID</th>\n",
       "    </tr>\n",
       "  </thead>\n",
       "  <tbody>\n",
       "    <tr>\n",
       "      <th>63</th>\n",
       "      <td>ES</td>\n",
       "      <td>NaN</td>\n",
       "    </tr>\n",
       "    <tr>\n",
       "      <th>132</th>\n",
       "      <td>US</td>\n",
       "      <td>MX</td>\n",
       "    </tr>\n",
       "    <tr>\n",
       "      <th>228</th>\n",
       "      <td>US</td>\n",
       "      <td>NO</td>\n",
       "    </tr>\n",
       "    <tr>\n",
       "      <th>337</th>\n",
       "      <td>GB</td>\n",
       "      <td>NaN</td>\n",
       "    </tr>\n",
       "    <tr>\n",
       "      <th>346</th>\n",
       "      <td>US</td>\n",
       "      <td>ES</td>\n",
       "    </tr>\n",
       "    <tr>\n",
       "      <th>...</th>\n",
       "      <td>...</td>\n",
       "      <td>...</td>\n",
       "    </tr>\n",
       "    <tr>\n",
       "      <th>1325476</th>\n",
       "      <td>TR</td>\n",
       "      <td>US</td>\n",
       "    </tr>\n",
       "    <tr>\n",
       "      <th>1326337</th>\n",
       "      <td>TW</td>\n",
       "      <td>FR</td>\n",
       "    </tr>\n",
       "    <tr>\n",
       "      <th>1326379</th>\n",
       "      <td>KR</td>\n",
       "      <td>AD</td>\n",
       "    </tr>\n",
       "    <tr>\n",
       "      <th>1326514</th>\n",
       "      <td>US</td>\n",
       "      <td>ES</td>\n",
       "    </tr>\n",
       "    <tr>\n",
       "      <th>1326912</th>\n",
       "      <td>GB</td>\n",
       "      <td>ES</td>\n",
       "    </tr>\n",
       "  </tbody>\n",
       "</table>\n",
       "<p>22257 rows × 2 columns</p>\n",
       "</div>"
      ],
      "text/plain": [
       "        SALE_COUNTRY_ID COUNTRY_CONTACT_ID\n",
       "63                   ES                NaN\n",
       "132                  US                 MX\n",
       "228                  US                 NO\n",
       "337                  GB                NaN\n",
       "346                  US                 ES\n",
       "...                 ...                ...\n",
       "1325476              TR                 US\n",
       "1326337              TW                 FR\n",
       "1326379              KR                 AD\n",
       "1326514              US                 ES\n",
       "1326912              GB                 ES\n",
       "\n",
       "[22257 rows x 2 columns]"
      ]
     },
     "execution_count": 10,
     "metadata": {},
     "output_type": "execute_result"
    }
   ],
   "source": [
    "# below shows that sale country and country contact not always the same\n",
    "cleandata[cleandata.SALE_COUNTRY_ID != cleandata.COUNTRY_CONTACT_ID][['SALE_COUNTRY_ID','COUNTRY_CONTACT_ID']]"
   ]
  },
  {
   "cell_type": "code",
   "execution_count": 11,
   "metadata": {},
   "outputs": [
    {
     "data": {
      "text/plain": [
       "<AxesSubplot:xlabel='NET_SALES_EUR', ylabel='Count'>"
      ]
     },
     "execution_count": 11,
     "metadata": {},
     "output_type": "execute_result"
    },
    {
     "data": {
      "image/png": "[encoded data removed]",
      "text/plain": [
       "<Figure size 432x288 with 1 Axes>"
      ]
     },
     "metadata": {
      "needs_background": "light"
     },
     "output_type": "display_data"
    }
   ],
   "source": [
    "sns.histplot(data=cleandata, x=\"NET_SALES_EUR\")\n"
   ]
  },
  {
   "cell_type": "code",
   "execution_count": null,
   "metadata": {},
   "outputs": [],
   "source": []
  }
 ],
 "metadata": {
  "kernelspec": {
   "display_name": "Python 3",
   "language": "python",
   "name": "python3"
  },
  "language_info": {
   "codemirror_mode": {
    "name": "ipython",
    "version": 3
   },
   "file_extension": ".py",
   "mimetype": "text/x-python",
   "name": "python",
   "nbconvert_exporter": "python",
   "pygments_lexer": "ipython3",
   "version": "3.8.5"
  }
 },
 "nbformat": 4,
 "nbformat_minor": 1
}